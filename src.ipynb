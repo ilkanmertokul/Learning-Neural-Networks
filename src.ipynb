{
  "cells": [
    {
      "cell_type": "markdown",
      "source": [
        "# HOMEWORK 5\n",
        "### İlkan Mert Okul, 1801042649"
      ],
      "metadata": {
        "id": "Rs8Rf28LbXyq"
      }
    },
    {
      "cell_type": "markdown",
      "source": [
        "## **Part 1**\n",
        "### *Select a dataset, i choosed IRIS dataset from sklearn datasets*"
      ],
      "metadata": {
        "id": "x8j7-WadbNSf"
      }
    },
    {
      "cell_type": "code",
      "source": [
        "import sklearn as sk\n",
        "import pandas as pd\n",
        "import tensorflow as tf\n",
        "import matplotlib.pyplot as plt \n",
        "import numpy as np\n",
        "import tensorflow_datasets\n",
        "\n",
        "from sklearn.neural_network import MLPClassifier\n",
        "from sklearn.datasets import make_classification\n",
        "from sklearn.model_selection import train_test_split\n",
        "from sklearn.metrics import confusion_matrix\n",
        "from sklearn.ensemble import AdaBoostClassifier"
      ],
      "outputs": [],
      "execution_count": 184,
      "metadata": {
        "id": "QH04vIqDb9zp"
      }
    },
    {
      "cell_type": "code",
      "source": [
        "iris = sk.datasets.load_iris()\n",
        "\n",
        "trainX = iris.data\n",
        "targetY = iris.target"
      ],
      "outputs": [],
      "execution_count": 185,
      "metadata": {
        "id": "bFPJe7bsbELm"
      }
    },
    {
      "cell_type": "markdown",
      "source": [
        "## **Part 2**\n",
        "### Train a MLP, experiment with at least 3 different depths and different number of nodes in each."
      ],
      "metadata": {
        "id": "NlKJ2VT4IiA9"
      }
    },
    {
      "cell_type": "markdown",
      "source": [
        "Test 1 -> hidden_layer_sizes = 2, 4  -- alpha = 0.1 "
      ],
      "metadata": {
        "id": "TwrRCTQaJADx"
      }
    },
    {
      "cell_type": "code",
      "source": [
        "clf = MLPClassifier(solver='lbfgs', alpha=0.1, hidden_layer_sizes=(2 ,4, ), random_state=1).fit(trainX,targetY)\n",
        "\n",
        "prediction = clf.predict(trainX)\n",
        "\n",
        "confusion_matrix(prediction,targetY)"
      ],
      "outputs": [
        {
          "output_type": "execute_result",
          "execution_count": 186,
          "data": {
            "text/plain": "array([[50,  0,  0],\n       [ 0, 49,  0],\n       [ 0,  1, 50]])"
          },
          "metadata": {}
        }
      ],
      "execution_count": 186,
      "metadata": {
        "colab": {
          "base_uri": "https://localhost:8080/"
        },
        "id": "aVuhlS6TJJyJ",
        "outputId": "d308af8c-d1be-4951-a1a3-874b53bffa08"
      }
    },
    {
      "cell_type": "markdown",
      "source": [
        "Test 2 -> hidden_layer_sizes = 3, 3 -- alpha = 1e-5"
      ],
      "metadata": {
        "id": "CkJPWPjxJrxM"
      }
    },
    {
      "cell_type": "code",
      "source": [
        "clf = MLPClassifier(solver='lbfgs', alpha=1e-5, hidden_layer_sizes=(3, 3, ), random_state=1).fit(trainX,targetY)\n",
        "\n",
        "prediction = clf.predict(trainX)\n",
        "\n",
        "confusion_matrix(prediction,targetY)"
      ],
      "outputs": [
        {
          "output_type": "execute_result",
          "execution_count": 187,
          "data": {
            "text/plain": "array([[50,  0,  0],\n       [ 0, 47,  0],\n       [ 0,  3, 50]])"
          },
          "metadata": {}
        }
      ],
      "execution_count": 187,
      "metadata": {
        "id": "8VgOKpTXPOzv",
        "colab": {
          "base_uri": "https://localhost:8080/"
        },
        "outputId": "6e9c01ca-5073-4c16-d379-7559f15b9e5b"
      }
    },
    {
      "cell_type": "markdown",
      "source": [
        "Test 3 -> hidden_layer_sizes = 5, 5, 2 -- alpha = 0.5 -- max_iter = 700"
      ],
      "metadata": {
        "id": "jyzNSCnQKOPg"
      }
    },
    {
      "cell_type": "code",
      "source": [
        "clf = MLPClassifier(solver='lbfgs', alpha=0.5, hidden_layer_sizes=(5, 5, 2), random_state=1, max_iter = 700).fit(trainX,targetY)\n",
        "\n",
        "prediction = clf.predict(trainX)\n",
        "\n",
        "confusion_matrix(prediction,targetY)"
      ],
      "outputs": [
        {
          "output_type": "execute_result",
          "execution_count": 188,
          "data": {
            "text/plain": "array([[50,  0,  0],\n       [ 0, 49,  1],\n       [ 0,  1, 49]])"
          },
          "metadata": {}
        }
      ],
      "execution_count": 188,
      "metadata": {
        "colab": {
          "base_uri": "https://localhost:8080/"
        },
        "id": "7b_RRlm7KPiO",
        "outputId": "e4b49717-eab7-47f9-feac-d00e7736208a"
      }
    },
    {
      "cell_type": "markdown",
      "source": [
        "## Part 3\n",
        "### Train a MLP, use a hidden layer perceptron as your base classifier to train an Adaboost ensemble learner."
      ],
      "metadata": {
        "id": "i_98Xks8LzhD"
      }
    },
    {
      "cell_type": "code",
      "source": [
        "# This piece of code is not written by me. It is taken from internet, i made small adjustments\n",
        "# to match my needs.\n",
        "\n",
        "class customMLPClassifer(MLPClassifier):\n",
        "    def resample_with_replacement(self, X_train, y_train, sample_weight):\n",
        "\n",
        "        # normalize sample_weights if not already\n",
        "        sample_weight = sample_weight / sample_weight.sum(dtype=np.float64)\n",
        "\n",
        "        X_train_resampled = np.zeros((len(X_train), len(X_train[0])), dtype=np.float32)\n",
        "        y_train_resampled = np.zeros((len(y_train)), dtype=np.int)\n",
        "        for i in range(len(X_train)):\n",
        "            # draw a number from 0 to len(X_train)-1\n",
        "            draw = np.random.choice(np.arange(len(X_train)), p=sample_weight)\n",
        "\n",
        "            # place the X and y at the drawn number into the resampled X and y\n",
        "            X_train_resampled[i] = X_train[draw]\n",
        "            y_train_resampled[i] = y_train[draw]\n",
        "\n",
        "        return X_train_resampled, y_train_resampled\n",
        "\n",
        "\n",
        "    def fit(self, X, y, sample_weight=None):\n",
        "\n",
        "        self.solver = 'lbfgs'\n",
        "        self.hidden_layer_sizes = 3\n",
        "        self.max_iter = 700\n",
        "        self.alpha = 0.5\n",
        "\n",
        "        if sample_weight is not None:\n",
        "            X, y = self.resample_with_replacement(X, y, sample_weight)\n",
        "\n",
        "        return self._fit(X, y, incremental=(self.warm_start and\n",
        "                                            hasattr(self, \"classes_\")))"
      ],
      "outputs": [],
      "execution_count": 264,
      "metadata": {
        "id": "Mcf1cpxUW9OB"
      }
    },
    {
      "cell_type": "markdown",
      "source": [
        "### This is using Adaboost \"SAMME.R\" algorithm"
      ],
      "metadata": {
        "id": "JuCC6rsgaHho"
      }
    },
    {
      "cell_type": "code",
      "source": [
        "adaboost = AdaBoostClassifier(base_estimator=customMLPClassifer().fit(X =trainX, y = targetY), n_estimators=3, algorithm=\"SAMME.R\", learning_rate=0.5)\n",
        "\n",
        "adaboost.fit(trainX,targetY)\n",
        "\n",
        "adaPrediction = adaboost.predict(trainX)\n",
        "\n",
        "confusion_matrix(adaPrediction,targetY)"
      ],
      "outputs": [
        {
          "output_type": "stream",
          "name": "stderr",
          "text": "/usr/local/lib/python3.7/dist-packages/ipykernel_launcher.py:8: DeprecationWarning: `np.int` is a deprecated alias for the builtin `int`. To silence this warning, use `int` by itself. Doing this will not modify any behavior and is safe. When replacing `np.int`, you may wish to use e.g. `np.int64` or `np.int32` to specify the precision. If you wish to review your current use, check the release note link for additional information.\nDeprecated in NumPy 1.20; for more details and guidance: https://numpy.org/devdocs/release/1.20.0-notes.html#deprecations\n  \n/usr/local/lib/python3.7/dist-packages/ipykernel_launcher.py:8: DeprecationWarning: `np.int` is a deprecated alias for the builtin `int`. To silence this warning, use `int` by itself. Doing this will not modify any behavior and is safe. When replacing `np.int`, you may wish to use e.g. `np.int64` or `np.int32` to specify the precision. If you wish to review your current use, check the release note link for additional information.\nDeprecated in NumPy 1.20; for more details and guidance: https://numpy.org/devdocs/release/1.20.0-notes.html#deprecations\n  \n/usr/local/lib/python3.7/dist-packages/ipykernel_launcher.py:8: DeprecationWarning: `np.int` is a deprecated alias for the builtin `int`. To silence this warning, use `int` by itself. Doing this will not modify any behavior and is safe. When replacing `np.int`, you may wish to use e.g. `np.int64` or `np.int32` to specify the precision. If you wish to review your current use, check the release note link for additional information.\nDeprecated in NumPy 1.20; for more details and guidance: https://numpy.org/devdocs/release/1.20.0-notes.html#deprecations\n  \n"
        },
        {
          "output_type": "execute_result",
          "execution_count": 265,
          "data": {
            "text/plain": "array([[50,  0,  0],\n       [ 0, 49,  1],\n       [ 0,  1, 49]])"
          },
          "metadata": {}
        }
      ],
      "execution_count": 265,
      "metadata": {
        "colab": {
          "base_uri": "https://localhost:8080/"
        },
        "id": "AAzjdaLVNdLe",
        "outputId": "a9f103d9-09cb-4cbd-9871-053466fee3a5"
      }
    },
    {
      "cell_type": "markdown",
      "source": [
        "SAMME.R algorithm with \n",
        "\n",
        "self.solver = 'lbfgs'\n",
        "self.hidden_layer_sizes = 3\n",
        "self.max_iter = 700\n",
        "self.alpha = 0.5  MLPClassifier \n",
        "\n",
        "got 0.9866 accuracy."
      ],
      "metadata": {
        "id": "9oyMngJzcOlW"
      }
    },
    {
      "cell_type": "markdown",
      "source": [
        "### This is using Adaboost \"SAMME\" algorithm"
      ],
      "metadata": {
        "id": "4yRLrq1PaNWO"
      }
    },
    {
      "cell_type": "code",
      "source": [
        "adaboost = AdaBoostClassifier(base_estimator=customMLPClassifer().fit(X =trainX, y = targetY), n_estimators=3, algorithm=\"SAMME\", learning_rate=0.5)\n",
        "\n",
        "adaboost.fit(trainX,targetY)\n",
        "\n",
        "adaPrediction = adaboost.predict(trainX)\n",
        "\n",
        "confusion_matrix(adaPrediction,targetY)"
      ],
      "outputs": [
        {
          "output_type": "stream",
          "name": "stderr",
          "text": "/usr/local/lib/python3.7/dist-packages/ipykernel_launcher.py:8: DeprecationWarning: `np.int` is a deprecated alias for the builtin `int`. To silence this warning, use `int` by itself. Doing this will not modify any behavior and is safe. When replacing `np.int`, you may wish to use e.g. `np.int64` or `np.int32` to specify the precision. If you wish to review your current use, check the release note link for additional information.\nDeprecated in NumPy 1.20; for more details and guidance: https://numpy.org/devdocs/release/1.20.0-notes.html#deprecations\n  \n/usr/local/lib/python3.7/dist-packages/ipykernel_launcher.py:8: DeprecationWarning: `np.int` is a deprecated alias for the builtin `int`. To silence this warning, use `int` by itself. Doing this will not modify any behavior and is safe. When replacing `np.int`, you may wish to use e.g. `np.int64` or `np.int32` to specify the precision. If you wish to review your current use, check the release note link for additional information.\nDeprecated in NumPy 1.20; for more details and guidance: https://numpy.org/devdocs/release/1.20.0-notes.html#deprecations\n  \n/usr/local/lib/python3.7/dist-packages/sklearn/neural_network/_multilayer_perceptron.py:549: ConvergenceWarning: lbfgs failed to converge (status=1):\nSTOP: TOTAL NO. of ITERATIONS REACHED LIMIT.\n\nIncrease the number of iterations (max_iter) or scale the data as shown in:\n    https://scikit-learn.org/stable/modules/preprocessing.html\n  self.n_iter_ = _check_optimize_result(\"lbfgs\", opt_res, self.max_iter)\n/usr/local/lib/python3.7/dist-packages/ipykernel_launcher.py:8: DeprecationWarning: `np.int` is a deprecated alias for the builtin `int`. To silence this warning, use `int` by itself. Doing this will not modify any behavior and is safe. When replacing `np.int`, you may wish to use e.g. `np.int64` or `np.int32` to specify the precision. If you wish to review your current use, check the release note link for additional information.\nDeprecated in NumPy 1.20; for more details and guidance: https://numpy.org/devdocs/release/1.20.0-notes.html#deprecations\n  \n"
        },
        {
          "output_type": "execute_result",
          "execution_count": 267,
          "data": {
            "text/plain": "array([[50,  0,  0],\n       [ 0, 49,  2],\n       [ 0,  1, 48]])"
          },
          "metadata": {}
        }
      ],
      "execution_count": 267,
      "metadata": {
        "colab": {
          "base_uri": "https://localhost:8080/"
        },
        "id": "RQ13adcVaC47",
        "outputId": "aee2124e-df9b-4fb7-d20e-f366f1983b6e"
      }
    },
    {
      "cell_type": "markdown",
      "source": [
        "SAMME algorithm with\n",
        "\n",
        "self.solver = 'lbfgs' self.hidden_layer_sizes = 3 self.max_iter = 700 self.alpha = 0.5 MLPClassifier\n",
        "\n",
        "got 0.98 accuracy."
      ],
      "metadata": {
        "id": "2um0qxjsck-s"
      }
    }
  ],
  "metadata": {
    "colab": {
      "name": "HW5_okul_ilkanmert_1801042649.ipynb",
      "provenance": [],
      "collapsed_sections": []
    },
    "kernelspec": {
      "name": "python3",
      "display_name": "Python 3"
    },
    "language_info": {
      "name": "python"
    },
    "nteract": {
      "version": "nteract-front-end@1.0.0"
    }
  },
  "nbformat": 4,
  "nbformat_minor": 0
}